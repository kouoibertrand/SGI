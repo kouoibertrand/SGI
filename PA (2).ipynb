{
 "cells": [
  {
   "cell_type": "code",
   "execution_count": 131,
   "metadata": {},
   "outputs": [],
   "source": [
    "import re\n",
    "import requests\n",
    "from bs4 import BeautifulSoup\n",
    "import networkx as nx\n",
    "\n",
    "G = nx.Graph()"
   ]
  },
  {
   "cell_type": "code",
   "execution_count": 142,
   "metadata": {},
   "outputs": [],
   "source": [
    "page = requests.get(\"http://dtu-graph.lyxx.fr/data/class.html\")\n",
    "soup = BeautifulSoup(page.content, \"html.parser\")\n",
    "\n",
    "for i in soup.findAll(\"tr\"):\n",
    "    #fetch departements\n",
    "    if \"colspan\" in (str)(list(i.children)[1]):\n",
    "        departement = list(i.children)[1].text.strip()\n",
    "    #fetch class\n",
    "    else:\n",
    "        classnumber = i.text.strip().split('\\n')[0][:5]\n",
    "        classname = i.text.strip().split('\\n')[0][8:]\n",
    "        langage, ects = [s.strip() for s in i.text.strip().split('\\n')[1].split('|')[0:2]]\n",
    "        ects = (float)(ects.split(' ')[0])\n",
    "\n",
    "        #get schedule. First dimension : different option, second dimension : all the class to follow for this option\n",
    "        res = \"\"\n",
    "        for j in list(i.children)[3].findAll(\"span\")[1:]:\n",
    "            if j.text.strip() != \"\":\n",
    "                res += j.text.strip()\n",
    "        res = res.split(\"or\")\n",
    "        for j in range(len(res)):\n",
    "            res[j] = re.findall(\"(January|June|July|August|Spring|[EF][1-5][AB]?)\", res[j])\n",
    "        G.add_node(classnumber, name=classname, langage=langage, ects=ects, departement=departement, date=res)"
   ]
  },
  {
   "cell_type": "code",
   "execution_count": 152,
   "metadata": {},
   "outputs": [],
   "source": [
    "page = requests.get(\"http://dtu-graph.lyxx.fr/data/ranking.html\")\n",
    "soup = BeautifulSoup(page.content, \"html.parser\")\n",
    "\n",
    "#fetch class ratings\n",
    "for i in soup.findChild(\"tbody\").findAll(\"tr\"):\n",
    "    classnum = list(i.children)[0].text\n",
    "    #some class might not exist anymore\n",
    "    try:\n",
    "        G.nodes[classnum][\"avgGrade\"] = list(i.children)[2].text\n",
    "        G.nodes[classnum][\"passed\"] = list(i.children)[4].text\n",
    "        G.nodes[classnum][\"rating\"] = list(i.children)[5].text\n",
    "        G.nodes[classnum][\"workload\"] = list(i.children)[6].text\n",
    "    except:pass\n",
    "    "
   ]
  }
 ],
 "metadata": {
  "interpreter": {
   "hash": "aed01aee7b1049ee99c4c4c8f2f61a52275825d2f87351fb09fa491d1e9eef79"
  },
  "kernelspec": {
   "display_name": "Python 3.8.5 64-bit ('base': conda)",
   "name": "python3"
  },
  "language_info": {
   "codemirror_mode": {
    "name": "ipython",
    "version": 3
   },
   "file_extension": ".py",
   "mimetype": "text/x-python",
   "name": "python",
   "nbconvert_exporter": "python",
   "pygments_lexer": "ipython3",
   "version": "3.8.5"
  },
  "orig_nbformat": 4
 },
 "nbformat": 4,
 "nbformat_minor": 2
}
